{
  "nbformat": 4,
  "nbformat_minor": 0,
  "metadata": {
    "colab": {
      "provenance": [],
      "authorship_tag": "ABX9TyMY6u4erk4Ui/p2GTB8+m3v",
      "include_colab_link": true
    },
    "kernelspec": {
      "name": "python3",
      "display_name": "Python 3"
    },
    "language_info": {
      "name": "python"
    }
  },
  "cells": [
    {
      "cell_type": "markdown",
      "metadata": {
        "id": "view-in-github",
        "colab_type": "text"
      },
      "source": [
        "<a href=\"https://colab.research.google.com/github/khalid-shaik/bank/blob/main/Bank_Customer_project.ipynb\" target=\"_parent\"><img src=\"https://colab.research.google.com/assets/colab-badge.svg\" alt=\"Open In Colab\"/></a>"
      ]
    },
    {
      "cell_type": "markdown",
      "source": [
        "**Import  required libraries**"
      ],
      "metadata": {
        "id": "mY4P1bfgSUop"
      }
    },
    {
      "cell_type": "code",
      "source": [
        "from google.colab import drive\n",
        "drive.mount('/content/drive')\n"
      ],
      "metadata": {
        "colab": {
          "base_uri": "https://localhost:8080/"
        },
        "id": "a_Ejc63QJVdY",
        "outputId": "2f51f164-0905-4349-e78a-b9dc96593746"
      },
      "execution_count": null,
      "outputs": [
        {
          "output_type": "stream",
          "name": "stdout",
          "text": [
            "Mounted at /content/drive\n"
          ]
        }
      ]
    },
    {
      "cell_type": "code",
      "source": [
        "!apt-get install sqlite3\n",
        "!pip install pandas\n"
      ],
      "metadata": {
        "colab": {
          "base_uri": "https://localhost:8080/"
        },
        "id": "-NdwyRF4KHMb",
        "outputId": "72a900c7-a1a8-4bea-8840-5b3f8ffdae06"
      },
      "execution_count": null,
      "outputs": [
        {
          "output_type": "stream",
          "name": "stdout",
          "text": [
            "Reading package lists... Done\n",
            "Building dependency tree... Done\n",
            "Reading state information... Done\n",
            "Suggested packages:\n",
            "  sqlite3-doc\n",
            "The following NEW packages will be installed:\n",
            "  sqlite3\n",
            "0 upgraded, 1 newly installed, 0 to remove and 35 not upgraded.\n",
            "Need to get 769 kB of archives.\n",
            "After this operation, 1,873 kB of additional disk space will be used.\n",
            "Get:1 http://archive.ubuntu.com/ubuntu jammy-updates/main amd64 sqlite3 amd64 3.37.2-2ubuntu0.4 [769 kB]\n",
            "Fetched 769 kB in 1s (753 kB/s)\n",
            "Selecting previously unselected package sqlite3.\n",
            "(Reading database ... 126111 files and directories currently installed.)\n",
            "Preparing to unpack .../sqlite3_3.37.2-2ubuntu0.4_amd64.deb ...\n",
            "Unpacking sqlite3 (3.37.2-2ubuntu0.4) ...\n",
            "Setting up sqlite3 (3.37.2-2ubuntu0.4) ...\n",
            "Processing triggers for man-db (2.10.2-1) ...\n",
            "Requirement already satisfied: pandas in /usr/local/lib/python3.11/dist-packages (2.2.2)\n",
            "Requirement already satisfied: numpy>=1.23.2 in /usr/local/lib/python3.11/dist-packages (from pandas) (2.0.2)\n",
            "Requirement already satisfied: python-dateutil>=2.8.2 in /usr/local/lib/python3.11/dist-packages (from pandas) (2.9.0.post0)\n",
            "Requirement already satisfied: pytz>=2020.1 in /usr/local/lib/python3.11/dist-packages (from pandas) (2025.2)\n",
            "Requirement already satisfied: tzdata>=2022.7 in /usr/local/lib/python3.11/dist-packages (from pandas) (2025.2)\n",
            "Requirement already satisfied: six>=1.5 in /usr/local/lib/python3.11/dist-packages (from python-dateutil>=2.8.2->pandas) (1.17.0)\n"
          ]
        }
      ]
    },
    {
      "cell_type": "code",
      "source": [],
      "metadata": {
        "id": "8kam4n69sAYl"
      },
      "execution_count": null,
      "outputs": []
    },
    {
      "cell_type": "code",
      "source": [
        "import sqlite3\n",
        "import pandas as pd\n",
        "import os\n"
      ],
      "metadata": {
        "id": "dCdH5BX4KilX"
      },
      "execution_count": null,
      "outputs": []
    },
    {
      "cell_type": "code",
      "source": [
        "from google.colab import drive\n",
        "drive.mount('/content/drive')\n"
      ],
      "metadata": {
        "colab": {
          "base_uri": "https://localhost:8080/"
        },
        "id": "cYLRbHkPKuK3",
        "outputId": "432f10c7-a270-4bec-e812-d5a42b215514"
      },
      "execution_count": null,
      "outputs": [
        {
          "output_type": "stream",
          "name": "stdout",
          "text": [
            "Drive already mounted at /content/drive; to attempt to forcibly remount, call drive.mount(\"/content/drive\", force_remount=True).\n"
          ]
        }
      ]
    },
    {
      "cell_type": "code",
      "source": [
        "conn = sqlite3.connect(\"my_database.db\")"
      ],
      "metadata": {
        "id": "fvJzKB_YMV5K"
      },
      "execution_count": null,
      "outputs": []
    },
    {
      "cell_type": "code",
      "source": [
        "# Define the correct path for the database\n",
        "db_path = \"/content/drive/MyDrive/my_database.db\"\n",
        "\n"
      ],
      "metadata": {
        "id": "Y_WX1ADiLrwc"
      },
      "execution_count": null,
      "outputs": []
    },
    {
      "cell_type": "code",
      "source": [
        "db_folder = \"/content/drive/MyDrive/SQLiteDB\"\n",
        "os.makedirs(db_folder, exist_ok=True)  # Ensure the folder exists\n",
        "db_path = os.path.join(db_folder, \"my_database.db\")\n",
        "\n",
        "\n"
      ],
      "metadata": {
        "id": "m1pH4S6zMCxL"
      },
      "execution_count": null,
      "outputs": []
    },
    {
      "cell_type": "code",
      "source": [
        "conn = sqlite3.connect(db_path)\n",
        "cursor = conn.cursor()\n",
        "\n",
        "print(\"Database connected at:\", db_path)"
      ],
      "metadata": {
        "colab": {
          "base_uri": "https://localhost:8080/"
        },
        "id": "mu9OAio3a_4w",
        "outputId": "4d13df3d-e329-4c3d-a70a-8b7ee9064be1"
      },
      "execution_count": null,
      "outputs": [
        {
          "output_type": "stream",
          "name": "stdout",
          "text": [
            "Database connected at: /content/drive/MyDrive/SQLiteDB/my_database.db\n"
          ]
        }
      ]
    },
    {
      "cell_type": "markdown",
      "source": [
        "#**Customer**  Table"
      ],
      "metadata": {
        "id": "ADb3LCe2NNvE"
      }
    },
    {
      "cell_type": "code",
      "source": [
        "cursor.execute('''\n",
        "CREATE TABLE BANK_CUSTOMERRR ( customer_id INT ,\n",
        "             \tcustomer_name VARCHAR(20),\n",
        "             \tAddress \tVARCHAR(20),\n",
        "             \tstate_code  VARCHAR(3) ,\n",
        "             \tTelephone   VARCHAR(10)\t);\n",
        "\n",
        "''')\n",
        "conn.commit()"
      ],
      "metadata": {
        "id": "87_nuB9rMTY7"
      },
      "execution_count": null,
      "outputs": []
    },
    {
      "cell_type": "code",
      "source": [
        "def insert_BANK_CUSTOMERR (customer_id,customer_name,Address,state_code,Telephone):\n",
        "    cursor.execute(\"INSERT INTO BANK_CUSTOMER (customer_id,customer_name,Address,state_code,Telephone) VALUES (?,?, ?, ?,?)\", (customer_id,customer_name,Address,state_code,Telephone))\n",
        "    conn.commit()\n",
        "\n",
        "# Insertion\n",
        "insert_BANK_CUSTOMERR(123001,\"Oliver\", \"225-5,Emeryville\", \"CA\" , \"1897614500\")\n",
        "insert_BANK_CUSTOMERR(123002,\"George\", \"194-6,New brighton\",\"MN\" , \"1897617000\")\n",
        "#insert_BANK_CUSTOMER(123003,\"Harry\", \"2909-5,walnut creek\",\"CA\" , \"1897617866\")\n",
        "#$insert_BANK_CUSTOMER(123004,\"Jack\", \"229-5, Concord\",  \t\"CA\" , \"1897627999\")\n",
        "#insert_BANK_CUSTOMER(123005,\"Jacob\", \"325-7, Mission Dist\",\"SFO\", \"1897637000\")\n",
        "#nsert_BANK_CUSTOMER(123006,\"Noah\", \"275-9, saint-paul\" ,  \"MN\" , \"1897613200\")\n",
        "#insert_BANK_CUSTOMER(123007,\"Charlie\",\"125-1,Richfield\",   \"MN\" , \"1897617666\")\n",
        "insert_BANK_CUSTOMERR(123008,\"Robin\",\"3005-1,Heathrow\", \t\"NY\" , \"1897614000\")"
      ],
      "metadata": {
        "id": "omgcLZEqMoN2"
      },
      "execution_count": null,
      "outputs": []
    },
    {
      "cell_type": "code",
      "source": [
        "pip install tabulate"
      ],
      "metadata": {
        "colab": {
          "base_uri": "https://localhost:8080/"
        },
        "id": "L-YCzR8HNGzK",
        "outputId": "09d41efb-0294-4f13-e7d6-6217dfcc015f"
      },
      "execution_count": null,
      "outputs": [
        {
          "output_type": "stream",
          "name": "stdout",
          "text": [
            "Requirement already satisfied: tabulate in /usr/local/lib/python3.11/dist-packages (0.9.0)\n"
          ]
        }
      ]
    },
    {
      "cell_type": "code",
      "source": [
        "from tabulate import tabulate\n",
        "\n",
        "\n",
        "# Fetch data\n",
        "cursor.execute(\"SELECT * FROM BANK_CUSTOMER \")\n",
        "rows = cursor.fetchall()\n",
        "\n",
        "# Get column names\n",
        "column_names = [desc[0] for desc in cursor.description]\n",
        "\n",
        "# Print in tabular format\n",
        "print(tabulate(rows, headers=column_names, tablefmt=\"grid\"))"
      ],
      "metadata": {
        "colab": {
          "base_uri": "https://localhost:8080/"
        },
        "id": "xiH2CgLPM-Jf",
        "outputId": "decc95c6-f697-43ba-aa14-a87c19ede3fc"
      },
      "execution_count": null,
      "outputs": [
        {
          "output_type": "stream",
          "name": "stdout",
          "text": [
            "+---------------+-----------------+---------------------+--------------+-------------+\n",
            "|   customer_id | customer_name   | Address             | state_code   |   Telephone |\n",
            "+===============+=================+=====================+==============+=============+\n",
            "|        123001 | Oliver          | 225-5,Emeryville    | CA           |  1897614500 |\n",
            "+---------------+-----------------+---------------------+--------------+-------------+\n",
            "|        123002 | George          | 194-6,New brighton  | MN           |  1897617000 |\n",
            "+---------------+-----------------+---------------------+--------------+-------------+\n",
            "|        123003 | Harry           | 2909-5,walnut creek | CA           |  1897617866 |\n",
            "+---------------+-----------------+---------------------+--------------+-------------+\n",
            "|        123004 | Jack            | 229-5, Concord      | CA           |  1897627999 |\n",
            "+---------------+-----------------+---------------------+--------------+-------------+\n",
            "|        123005 | Jacob           | 325-7, Mission Dist | SFO          |  1897637000 |\n",
            "+---------------+-----------------+---------------------+--------------+-------------+\n",
            "|        123006 | Noah            | 275-9, saint-paul   | MN           |  1897613200 |\n",
            "+---------------+-----------------+---------------------+--------------+-------------+\n",
            "|        123007 | Charlie         | 125-1,Richfield     | MN           |  1897617666 |\n",
            "+---------------+-----------------+---------------------+--------------+-------------+\n",
            "|        123008 | Robin           | 3005-1,Heathrow     | NY           |  1897614000 |\n",
            "+---------------+-----------------+---------------------+--------------+-------------+\n",
            "|        123001 | Oliver          | 225-5,Emeryville    | CA           |  1897614500 |\n",
            "+---------------+-----------------+---------------------+--------------+-------------+\n",
            "|        123002 | George          | 194-6,New brighton  | MN           |  1897617000 |\n",
            "+---------------+-----------------+---------------------+--------------+-------------+\n",
            "|        123008 | Robin           | 3005-1,Heathrow     | NY           |  1897614000 |\n",
            "+---------------+-----------------+---------------------+--------------+-------------+\n"
          ]
        }
      ]
    },
    {
      "cell_type": "markdown",
      "source": [
        "**Bank_customer_export** Table"
      ],
      "metadata": {
        "id": "WEzyWsgnNicB"
      }
    },
    {
      "cell_type": "code",
      "source": [
        "#Create a bank_customer_export\n",
        "cursor.execute('''\n",
        "CREATE TABLE BANK_CUSTOMER_exports ( customer_id CHAR(10) ,\n",
        "             \tcustomer_name CHAR(20),\n",
        "             \tAddress CHAR(20),\n",
        "             \tstate_code  CHAR(3) ,\n",
        "             \tTelephone  CHAR(10)\t);\n",
        "\n",
        "''')\n",
        "conn.commit()"
      ],
      "metadata": {
        "id": "mfv8FMb6NLNP"
      },
      "execution_count": null,
      "outputs": []
    },
    {
      "cell_type": "code",
      "source": [
        "def insert_BANK_CUSTOMER_exports (customer_id,customer_name,Address,state_code,Telephone):\n",
        "    cursor.execute(\"INSERT INTO BANK_CUSTOMER_exports (customer_id,customer_name,Address,state_code,Telephone) VALUES (?,?, ?, ?,?)\", (customer_id,customer_name,Address,state_code,Telephone))\n",
        "    conn.commit()\n",
        "\n",
        "#  insert\n",
        "insert_BANK_CUSTOMER_exports(123001,\"Oliver\", \"225-5,Emeryville\", \"CA\" , \"1897614500\")\n",
        "insert_BANK_CUSTOMER_exports(123002,\"George\", \"194-6,New brighton\",\"MN\" , \"1897617000\")"
      ],
      "metadata": {
        "id": "F-3lR5lwNoO3"
      },
      "execution_count": null,
      "outputs": []
    },
    {
      "cell_type": "code",
      "source": [
        "from tabulate import tabulate\n",
        "\n",
        "\n",
        "# Fetch data\n",
        "cursor.execute(\"SELECT * FROM BANK_CUSTOMER_exports\")\n",
        "rows = cursor.fetchall()\n",
        "\n",
        "# Get column names\n",
        "column_names = [desc[0] for desc in cursor.description]\n",
        "\n",
        "# Print in tabular format\n",
        "print(tabulate(rows, headers=column_names, tablefmt=\"grid\"))"
      ],
      "metadata": {
        "colab": {
          "base_uri": "https://localhost:8080/"
        },
        "id": "kgckjzSnNufr",
        "outputId": "1af6361b-0f99-4be2-bcf5-52a1e8bc474c"
      },
      "execution_count": null,
      "outputs": [
        {
          "output_type": "stream",
          "name": "stdout",
          "text": [
            "+---------------+-----------------+--------------------+--------------+-------------+\n",
            "|   customer_id | customer_name   | Address            | state_code   |   Telephone |\n",
            "+===============+=================+====================+==============+=============+\n",
            "|        123001 | Oliver          | 225-5,Emeryville   | CA           |  1897614500 |\n",
            "+---------------+-----------------+--------------------+--------------+-------------+\n",
            "|        123002 | George          | 194-6,New brighton | MN           |  1897617000 |\n",
            "+---------------+-----------------+--------------------+--------------+-------------+\n"
          ]
        }
      ]
    },
    {
      "cell_type": "markdown",
      "source": [
        "**BANK_Account_Details** Table"
      ],
      "metadata": {
        "id": "vtbIHVyiODt6"
      }
    },
    {
      "cell_type": "code",
      "source": [
        "\n",
        "cursor.execute('''\n",
        "CREATE TABLE BANK_Account_Details ( customer_id INT ,\n",
        "             \tAccount_Number  VARCHAR(19),\n",
        "             \tAccount_type \tVARCHAR(25),\n",
        "                Balance_amount INT,\n",
        "             \tAccount_status  VARCHAR(10) ,\n",
        "             \tRelationship_type VARCHAR(11)\t);\n",
        "\n",
        "''')\n",
        "conn.commit()"
      ],
      "metadata": {
        "id": "ZAWzUqpBN7xn"
      },
      "execution_count": null,
      "outputs": []
    },
    {
      "cell_type": "code",
      "source": [
        "def insert_BANK_Account_Details(customer_id, Account_number, Account_type, Balance_amount, Account_status, Relationship_type):\n",
        "    cursor.execute(\"\"\"\n",
        "        INSERT INTO BANK_Account_Details\n",
        "        (customer_id, Account_number, Account_type, Balance_amount, Account_status, Relationship_type)\n",
        "        VALUES (?, ?, ?, ?, ?, ?)\n",
        "    \"\"\", (customer_id, Account_number, Account_type, Balance_amount, Account_status, Relationship_type))\n",
        "\n",
        "    conn.commit()\n",
        "insert_BANK_Account_Details(123001, \"4000-1956-3456\", \"SAVINGS\", 200000, \"ACTIVE\", \"P\")\n",
        "insert_BANK_Account_Details(123001, \"5000-1700-3456\", \"RECURRING DEPOSITS\", 9400000, \"ACTIVE\", \"S\")\n",
        "insert_BANK_Account_Details(123002, \"4000-1956-2001\", \"SAVINGS\", 400000, \"ACTIVE\", \"P\")\n",
        "insert_BANK_Account_Details(123002, \"5000-1700-5001\", \"RECURRING DEPOSITS\", 7500000, \"ACTIVE\", \"S\")\n",
        "insert_BANK_Account_Details(123003, \"4000-1956-2900\", \"SAVINGS\", 750000, \"INACTIVE\", \"P\")\n",
        "insert_BANK_Account_Details(123004, \"5000-1700-6091\", \"RECURRING DEPOSITS\", 7500000, \"ACTIVE\", \"S\")\n",
        "insert_BANK_Account_Details(123004, \"4000-1956-3401\", \"SAVINGS\", 655000, \"ACTIVE\", \"P\")\n",
        "insert_BANK_Account_Details(123005, \"4000-1956-5102\", \"SAVINGS\", 300000, \"ACTIVE\", \"P\")\n",
        "insert_BANK_Account_Details(123006, \"4000-1956-5698\", \"SAVINGS\", 455000, \"ACTIVE\", \"P\")\n",
        "insert_BANK_Account_Details(123007, \"5000-1700-9800\", \"SAVINGS\", 355000, \"ACTIVE\", \"P\")\n",
        "insert_BANK_Account_Details(123007, \"4000-1956-9977\", \"RECURRING DEPOSITS\", 7025000, \"ACTIVE\", \"S\")\n",
        "insert_BANK_Account_Details(123007, \"9000-1700-7777-4321\", \"Credit Card\", 0, \"INACTIVE\", \"P\")\n",
        "insert_BANK_Account_Details(123007, \"5900-1900-9877-5543\", \"Add-on Credit Card\", 0, \"ACTIVE\", \"S\")\n",
        "insert_BANK_Account_Details(123008, \"5000-1700-7755\", \"SAVINGS\", 0, \"INACTIVE\", \"P\")\n",
        "insert_BANK_Account_Details(123006, \"5800-1700-9800-7755\", \"Credit Card\", 0, \"ACTIVE\", \"P\")\n",
        "insert_BANK_Account_Details(123006, \"5890-1970-7706-8912\", \"Add-on Credit Card\", 0, \"ACTIVE\", \"S\")"
      ],
      "metadata": {
        "id": "Z-Q6yiiEOL_s"
      },
      "execution_count": null,
      "outputs": []
    },
    {
      "cell_type": "code",
      "source": [
        "from tabulate import tabulate\n",
        "\n",
        "\n",
        "# Fetch data\n",
        "cursor.execute(\"SELECT * FROM BANK_Account_Details\")\n",
        "rows = cursor.fetchall()\n",
        "\n",
        "# Get column names\n",
        "column_names = [desc[0] for desc in cursor.description]\n",
        "\n",
        "# Print in tabular format\n",
        "print(tabulate(rows, headers=column_names, tablefmt=\"grid\"))"
      ],
      "metadata": {
        "colab": {
          "base_uri": "https://localhost:8080/"
        },
        "id": "t97OkzcWOnVO",
        "outputId": "095704c4-c3ec-4b67-f81f-a915db62f0fd"
      },
      "execution_count": null,
      "outputs": [
        {
          "output_type": "stream",
          "name": "stdout",
          "text": [
            "+---------------+---------------------+--------------------+------------------+------------------+---------------------+\n",
            "|   customer_id | Account_Number      | Account_type       |   Balance_amount | Account_status   | Relationship_type   |\n",
            "+===============+=====================+====================+==================+==================+=====================+\n",
            "|        123001 | 4000-1956-3456      | SAVINGS            |           200000 | ACTIVE           | P                   |\n",
            "+---------------+---------------------+--------------------+------------------+------------------+---------------------+\n",
            "|        123001 | 5000-1700-3456      | RECURRING DEPOSITS |          9400000 | ACTIVE           | S                   |\n",
            "+---------------+---------------------+--------------------+------------------+------------------+---------------------+\n",
            "|        123002 | 4000-1956-2001      | SAVINGS            |           400000 | ACTIVE           | P                   |\n",
            "+---------------+---------------------+--------------------+------------------+------------------+---------------------+\n",
            "|        123002 | 5000-1700-5001      | RECURRING DEPOSITS |          7500000 | ACTIVE           | S                   |\n",
            "+---------------+---------------------+--------------------+------------------+------------------+---------------------+\n",
            "|        123003 | 4000-1956-2900      | SAVINGS            |           750000 | INACTIVE         | P                   |\n",
            "+---------------+---------------------+--------------------+------------------+------------------+---------------------+\n",
            "|        123004 | 5000-1700-6091      | RECURRING DEPOSITS |          7500000 | ACTIVE           | S                   |\n",
            "+---------------+---------------------+--------------------+------------------+------------------+---------------------+\n",
            "|        123004 | 4000-1956-3401      | SAVINGS            |           655000 | ACTIVE           | P                   |\n",
            "+---------------+---------------------+--------------------+------------------+------------------+---------------------+\n",
            "|        123005 | 4000-1956-5102      | SAVINGS            |           300000 | ACTIVE           | P                   |\n",
            "+---------------+---------------------+--------------------+------------------+------------------+---------------------+\n",
            "|        123006 | 4000-1956-5698      | SAVINGS            |           455000 | ACTIVE           | P                   |\n",
            "+---------------+---------------------+--------------------+------------------+------------------+---------------------+\n",
            "|        123007 | 5000-1700-9800      | SAVINGS            |           355000 | ACTIVE           | P                   |\n",
            "+---------------+---------------------+--------------------+------------------+------------------+---------------------+\n",
            "|        123007 | 4000-1956-9977      | RECURRING DEPOSITS |          7025000 | ACTIVE           | S                   |\n",
            "+---------------+---------------------+--------------------+------------------+------------------+---------------------+\n",
            "|        123007 | 9000-1700-7777-4321 | Credit Card        |                0 | INACTIVE         | P                   |\n",
            "+---------------+---------------------+--------------------+------------------+------------------+---------------------+\n",
            "|        123007 | 5900-1900-9877-5543 | Add-on Credit Card |                0 | ACTIVE           | S                   |\n",
            "+---------------+---------------------+--------------------+------------------+------------------+---------------------+\n",
            "|        123008 | 5000-1700-7755      | SAVINGS            |                0 | INACTIVE         | P                   |\n",
            "+---------------+---------------------+--------------------+------------------+------------------+---------------------+\n",
            "|        123006 | 5800-1700-9800-7755 | Credit Card        |                0 | ACTIVE           | P                   |\n",
            "+---------------+---------------------+--------------------+------------------+------------------+---------------------+\n",
            "|        123006 | 5890-1970-7706-8912 | Add-on Credit Card |                0 | ACTIVE           | S                   |\n",
            "+---------------+---------------------+--------------------+------------------+------------------+---------------------+\n"
          ]
        }
      ]
    },
    {
      "cell_type": "markdown",
      "source": [
        "**BANK_Account** Table"
      ],
      "metadata": {
        "id": "tZU6iW7UQPGV"
      }
    },
    {
      "cell_type": "code",
      "source": [
        "#Create a table\n",
        "cursor.execute('''\n",
        "CREATE TABLE BANK_Account ( customer_id INT ,\n",
        "             \tAccount_Number  VARCHAR(19),\n",
        "             \tAccount_type \tVARCHAR(25),\n",
        "                Balance_amount INT,\n",
        "             \tAccount_status  VARCHAR(10) ,\n",
        "             \tRelationship_type VARCHAR(1)\t);\n",
        "\n",
        "''')\n",
        "conn.commit()"
      ],
      "metadata": {
        "id": "yNyvcDNYOs2n"
      },
      "execution_count": null,
      "outputs": []
    },
    {
      "cell_type": "code",
      "source": [
        "def insert_BANK_Account(customer_id, Account_number, Account_type, Balance_amount, Account_status, Relationship_type):\n",
        "    cursor.execute(\"\"\"\n",
        "        INSERT INTO BANK_Account\n",
        "        (customer_id, Account_number, Account_type, Balance_amount, Account_status, Relationship_type)\n",
        "        VALUES (?, ?, ?, ?, ?, ?)\n",
        "    \"\"\", (customer_id, Account_number, Account_type, Balance_amount, Account_status, Relationship_type))\n",
        "\n",
        "    conn.commit()\n",
        "\n",
        "insert_BANK_Account(123001, \"4000-1956-3456\", \"SAVINGS\", 200000, \"ACTIVE\", \"P\")\n",
        "insert_BANK_Account(123001, \"5000-1700-3456\", \"RECURRING DEPOSITS\", 9400000, \"ACTIVE\", \"S\")\n",
        "insert_BANK_Account(123002, \"4000-1956-2001\", \"SAVINGS\", 400000, \"ACTIVE\", \"P\")\n",
        "insert_BANK_Account(123002, \"5000-1700-5001\", \"RECURRING DEPOSITS\", 7500000, \"ACTIVE\", \"S\")\n",
        "insert_BANK_Account(123003, \"4000-1956-2900\", \"SAVINGS\", 750000, \"INACTIVE\", \"P\")\n",
        "insert_BANK_Account(123004, \"5000-1700-6091\", \"RECURRING DEPOSITS\", 7500000, \"ACTIVE\", \"S\")\n",
        "insert_BANK_Account(123004, \"4000-1956-3401\", \"SAVINGS\", 655000, \"ACTIVE\", \"P\")\n",
        "insert_BANK_Account(123005, \"4000-1956-5102\", \"SAVINGS\", 300000, \"ACTIVE\", \"P\")\n",
        "insert_BANK_Account(123006, \"4000-1956-5698\", \"SAVINGS\", 455000, \"ACTIVE\", \"P\")\n",
        "insert_BANK_Account(123007, \"5000-1700-9800\", \"SAVINGS\", 355000, \"ACTIVE\", \"P\")\n",
        "insert_BANK_Account(123007, \"4000-1956-9977\", \"RECURRING DEPOSITS\", 7025000, \"ACTIVE\", \"S\")\n",
        "insert_BANK_Account(123007, \"9000-1700-7777-4321\", \"CREDITCARD\", 0, \"INACTIVE\", \"P\")\n",
        "insert_BANK_Account(123008, \"5000-1700-7755\", \"SAVINGS\", None, \"INACTIVE\", \"P\")"
      ],
      "metadata": {
        "id": "o1bh3t72QuPm"
      },
      "execution_count": null,
      "outputs": []
    },
    {
      "cell_type": "code",
      "source": [
        "# Fetch data\n",
        "cursor.execute(\"SELECT * FROM BANK_Account\")\n",
        "rows = cursor.fetchall()\n",
        "\n",
        "# Get column names\n",
        "column_names = [desc[0] for desc in cursor.description]\n",
        "\n",
        "# Print in tabular format\n",
        "print(tabulate(rows, headers=column_names, tablefmt=\"grid\"))"
      ],
      "metadata": {
        "colab": {
          "base_uri": "https://localhost:8080/"
        },
        "id": "ns2HxBoIQvqt",
        "outputId": "9e352afd-9117-4a54-a776-39dc9ffcde2b"
      },
      "execution_count": null,
      "outputs": [
        {
          "output_type": "stream",
          "name": "stdout",
          "text": [
            "+---------------+---------------------+--------------------+------------------+------------------+---------------------+\n",
            "|   customer_id | Account_Number      | Account_type       |   Balance_amount | Account_status   | Relationship_type   |\n",
            "+===============+=====================+====================+==================+==================+=====================+\n",
            "|        123001 | 4000-1956-3456      | SAVINGS            |           200000 | ACTIVE           | P                   |\n",
            "+---------------+---------------------+--------------------+------------------+------------------+---------------------+\n",
            "|        123001 | 5000-1700-3456      | RECURRING DEPOSITS |          9400000 | ACTIVE           | S                   |\n",
            "+---------------+---------------------+--------------------+------------------+------------------+---------------------+\n",
            "|        123002 | 4000-1956-2001      | SAVINGS            |           400000 | ACTIVE           | P                   |\n",
            "+---------------+---------------------+--------------------+------------------+------------------+---------------------+\n",
            "|        123002 | 5000-1700-5001      | RECURRING DEPOSITS |          7500000 | ACTIVE           | S                   |\n",
            "+---------------+---------------------+--------------------+------------------+------------------+---------------------+\n",
            "|        123003 | 4000-1956-2900      | SAVINGS            |           750000 | INACTIVE         | P                   |\n",
            "+---------------+---------------------+--------------------+------------------+------------------+---------------------+\n",
            "|        123004 | 5000-1700-6091      | RECURRING DEPOSITS |          7500000 | ACTIVE           | S                   |\n",
            "+---------------+---------------------+--------------------+------------------+------------------+---------------------+\n",
            "|        123004 | 4000-1956-3401      | SAVINGS            |           655000 | ACTIVE           | P                   |\n",
            "+---------------+---------------------+--------------------+------------------+------------------+---------------------+\n",
            "|        123005 | 4000-1956-5102      | SAVINGS            |           300000 | ACTIVE           | P                   |\n",
            "+---------------+---------------------+--------------------+------------------+------------------+---------------------+\n",
            "|        123006 | 4000-1956-5698      | SAVINGS            |           455000 | ACTIVE           | P                   |\n",
            "+---------------+---------------------+--------------------+------------------+------------------+---------------------+\n",
            "|        123007 | 5000-1700-9800      | SAVINGS            |           355000 | ACTIVE           | P                   |\n",
            "+---------------+---------------------+--------------------+------------------+------------------+---------------------+\n",
            "|        123007 | 4000-1956-9977      | RECURRING DEPOSITS |          7025000 | ACTIVE           | S                   |\n",
            "+---------------+---------------------+--------------------+------------------+------------------+---------------------+\n",
            "|        123007 | 9000-1700-7777-4321 | CREDITCARD         |                0 | INACTIVE         | P                   |\n",
            "+---------------+---------------------+--------------------+------------------+------------------+---------------------+\n",
            "|        123008 | 5000-1700-7755      | SAVINGS            |                  | INACTIVE         | P                   |\n",
            "+---------------+---------------------+--------------------+------------------+------------------+---------------------+\n"
          ]
        }
      ]
    },
    {
      "cell_type": "markdown",
      "source": [
        "**BANK_Account_Relationship_Details** Table"
      ],
      "metadata": {
        "id": "VCBP-BBxQ8Jb"
      }
    },
    {
      "cell_type": "code",
      "source": [
        "#Create a table\n",
        "cursor.execute('''\n",
        "CREATE TABLE BANK_Account_Relationship_Details ( customer_id INT ,\n",
        "             \tAccount_Number  VARCHAR(19),\n",
        "             \tAccount_type \tVARCHAR(25),\n",
        "                linking_Account_Number VARCHAR(19)\t);\n",
        "\n",
        "''')\n",
        "conn.commit()"
      ],
      "metadata": {
        "id": "QjU7OcZ3Q0VJ"
      },
      "execution_count": null,
      "outputs": []
    },
    {
      "cell_type": "code",
      "source": [
        "def insert_BANK_Account_Relationship_Details(customer_id, Account_number, Account_type, Linking_Account_Number):\n",
        "    cursor.execute(\"\"\"\n",
        "        INSERT INTO BANK_Account_Relationship_Details\n",
        "        (customer_id, Account_number, Account_type, Linking_Account_Number)\n",
        "        VALUES (?, ?, ?, ?)\n",
        "    \"\"\", (customer_id, Account_number, Account_type, Linking_Account_Number))\n",
        "\n",
        "    conn.commit()\n",
        "\n",
        "\n",
        "insert_BANK_Account_Relationship_Details(123001, \"4000-1956-3456\", \"SAVINGS\", None)\n",
        "insert_BANK_Account_Relationship_Details(123001, \"5000-1700-3456\", \"RECURRING DEPOSITS\", \"4000-1956-3456\")\n",
        "insert_BANK_Account_Relationship_Details(123002, \"4000-1956-2001\", \"SAVINGS\", None)\n",
        "insert_BANK_Account_Relationship_Details(123002, \"5000-1700-5001\", \"RECURRING DEPOSITS\", \"4000-1956-2001\")\n",
        "insert_BANK_Account_Relationship_Details(123003, \"4000-1956-2900\", \"SAVINGS\", None)\n",
        "insert_BANK_Account_Relationship_Details(123004, \"5000-1700-6091\", \"RECURRING DEPOSITS\", \"4000-1956-2900\")\n",
        "insert_BANK_Account_Relationship_Details(123004, \"5000-1700-7791\", \"RECURRING DEPOSITS\", \"4000-1956-2900\")\n",
        "insert_BANK_Account_Relationship_Details(123007, \"5000-1700-9800\", \"SAVINGS\", None)\n",
        "insert_BANK_Account_Relationship_Details(123007, \"4000-1956-9977\", \"RECURRING DEPOSITS\", \"5000-1700-9800\")\n",
        "insert_BANK_Account_Relationship_Details(None, \"9000-1700-7777-4321\", \"Credit Card\", \"5000-1700-9800\")\n",
        "insert_BANK_Account_Relationship_Details(None, \"5900-1900-9877-5543\", \"Add-on Credit Card\", \"9000-1700-7777-4321\")\n",
        "insert_BANK_Account_Relationship_Details(None, \"5800-1700-9800-7755\", \"Credit Card\", \"4000-1956-5698\")\n",
        "insert_BANK_Account_Relationship_Details(None, \"5890-1970-7706-8912\", \"Add-on Credit Card\", \"5800-1700-9800-7755\")"
      ],
      "metadata": {
        "id": "hUkpRMC4Q_St"
      },
      "execution_count": null,
      "outputs": []
    },
    {
      "cell_type": "code",
      "source": [
        "# Fetch data\n",
        "cursor.execute(\"SELECT * FROM BANK_Account_Relationship_Details\")\n",
        "rows = cursor.fetchall()\n",
        "\n",
        "# Get column names\n",
        "column_names = [desc[0] for desc in cursor.description]\n",
        "\n",
        "# Print in tabular format\n",
        "print(tabulate(rows, headers=column_names, tablefmt=\"grid\"))"
      ],
      "metadata": {
        "colab": {
          "base_uri": "https://localhost:8080/"
        },
        "id": "bJ6FV3x1RE_6",
        "outputId": "ec1721b6-749d-4b83-e9c7-dfac1c7e9706"
      },
      "execution_count": null,
      "outputs": [
        {
          "output_type": "stream",
          "name": "stdout",
          "text": [
            "+---------------+---------------------+--------------------+--------------------------+\n",
            "|   customer_id | Account_Number      | Account_type       | linking_Account_Number   |\n",
            "+===============+=====================+====================+==========================+\n",
            "|        123001 | 4000-1956-3456      | SAVINGS            |                          |\n",
            "+---------------+---------------------+--------------------+--------------------------+\n",
            "|        123001 | 5000-1700-3456      | RECURRING DEPOSITS | 4000-1956-3456           |\n",
            "+---------------+---------------------+--------------------+--------------------------+\n",
            "|        123002 | 4000-1956-2001      | SAVINGS            |                          |\n",
            "+---------------+---------------------+--------------------+--------------------------+\n",
            "|        123002 | 5000-1700-5001      | RECURRING DEPOSITS | 4000-1956-2001           |\n",
            "+---------------+---------------------+--------------------+--------------------------+\n",
            "|        123003 | 4000-1956-2900      | SAVINGS            |                          |\n",
            "+---------------+---------------------+--------------------+--------------------------+\n",
            "|        123004 | 5000-1700-6091      | RECURRING DEPOSITS | 4000-1956-2900           |\n",
            "+---------------+---------------------+--------------------+--------------------------+\n",
            "|        123004 | 5000-1700-7791      | RECURRING DEPOSITS | 4000-1956-2900           |\n",
            "+---------------+---------------------+--------------------+--------------------------+\n",
            "|        123007 | 5000-1700-9800      | SAVINGS            |                          |\n",
            "+---------------+---------------------+--------------------+--------------------------+\n",
            "|        123007 | 4000-1956-9977      | RECURRING DEPOSITS | 5000-1700-9800           |\n",
            "+---------------+---------------------+--------------------+--------------------------+\n",
            "|               | 9000-1700-7777-4321 | Credit Card        | 5000-1700-9800           |\n",
            "+---------------+---------------------+--------------------+--------------------------+\n",
            "|               | 5900-1900-9877-5543 | Add-on Credit Card | 9000-1700-7777-4321      |\n",
            "+---------------+---------------------+--------------------+--------------------------+\n",
            "|               | 5800-1700-9800-7755 | Credit Card        | 4000-1956-5698           |\n",
            "+---------------+---------------------+--------------------+--------------------------+\n",
            "|               | 5890-1970-7706-8912 | Add-on Credit Card | 5800-1700-9800-7755      |\n",
            "+---------------+---------------------+--------------------+--------------------------+\n"
          ]
        }
      ]
    },
    {
      "cell_type": "markdown",
      "source": [
        "**BANK_Account_transaction** Table"
      ],
      "metadata": {
        "id": "Ohlw6w0YRPc2"
      }
    },
    {
      "cell_type": "code",
      "source": [
        "\n",
        "cursor.execute('''\n",
        "CREATE TABLE BANK_Account_transaction (\n",
        "             \tAccount_Number  VARCHAR(19),\n",
        "             \tTransaction_amount Decimal(18,2),\n",
        "                Transaction_channel VARCHAR(18),\n",
        "                Province varchar(3),\n",
        "                Transaction_Date Date);\n",
        "''')\n",
        "conn.commit()"
      ],
      "metadata": {
        "id": "Y0SvMctRRIqb"
      },
      "execution_count": null,
      "outputs": []
    },
    {
      "cell_type": "code",
      "source": [
        "def insert_BANK_Account_transaction(Account_Number, Transaction_amount, Transaction_channel, Province, Transaction_Date):\n",
        "    cursor.execute(\"\"\"\n",
        "        INSERT INTO BANK_Account_transaction\n",
        "        (Account_Number, Transaction_amount, Transaction_channel, Province, Transaction_Date)\n",
        "        VALUES (?, ?, ?, ?, ?)\n",
        "    \"\"\", (Account_Number, Transaction_amount, Transaction_channel, Province, Transaction_Date))\n",
        "\n",
        "    conn.commit()\n",
        "\n",
        "insert_BANK_Account_transaction(\"4000-1956-3456\",  -2000, \"ATM withdrawal\", \"CA\", \"2020-01-13\")\n",
        "insert_BANK_Account_transaction(\"4000-1956-2001\",  -4000, \"POS-Walmart\", \"MN\", \"2020-02-14\")\n",
        "insert_BANK_Account_transaction(\"4000-1956-2001\",  -1600, \"UPI transfer\", \"MN\", \"2020-01-19\")\n",
        "insert_BANK_Account_transaction(\"4000-1956-2001\",  -6000, \"Bankers cheque\", \"CA\", \"2020-03-23\")\n",
        "insert_BANK_Account_transaction(\"4000-1956-2001\",  -3000, \"Net banking\", \"CA\", \"2020-04-24\")\n",
        "insert_BANK_Account_transaction(\"4000-1956-2001\",  23000, \"Cheque deposit\", \"MN\", \"2020-03-15\")\n",
        "insert_BANK_Account_transaction(\"5000-1700-6091\",  40000, \"ECS transfer\", \"NY\", \"2020-02-19\")\n",
        "insert_BANK_Account_transaction(\"5000-1700-7791\",  40000, \"ECS transfer\", \"NY\", \"2020-02-19\")\n",
        "insert_BANK_Account_transaction(\"4000-1956-3401\",   8000, \"Cash Deposit\", \"NY\", \"2020-01-19\")\n",
        "insert_BANK_Account_transaction(\"4000-1956-5102\",  -6500, \"ATM withdrawal\", \"NY\", \"2020-03-14\")\n",
        "insert_BANK_Account_transaction(\"4000-1956-5698\",  -9000, \"Cash Deposit\", \"NY\", \"2020-03-27\")\n",
        "insert_BANK_Account_transaction(\"4000-1956-9977\",  50000, \"ECS transfer\", \"NY\", \"2020-01-16\")\n",
        "insert_BANK_Account_transaction(\"9000-1700-7777-4321\",  -5000, \"POS-Walmart\", \"NY\", \"2020-02-17\")\n",
        "insert_BANK_Account_transaction(\"9000-1700-7777-4321\",  -8000, \"Shopping Cart\", \"MN\", \"2020-03-13\")\n",
        "insert_BANK_Account_transaction(\"9000-1700-7777-4321\",  -2500, \"Shopping Cart\", \"MN\", \"2020-04-21\")\n",
        "insert_BANK_Account_transaction(\"5800-1700-9800-7755\", -9000, \"POS-Walmart\", \"MN\", \"2020-04-13\")\n",
        "insert_BANK_Account_transaction(\"5890-1970-7706-8912\", -11000, \"Shopping Cart\", \"NY\", \"2020-03-12\")"
      ],
      "metadata": {
        "id": "s-2mEvQGRUMb"
      },
      "execution_count": null,
      "outputs": []
    },
    {
      "cell_type": "code",
      "source": [
        "# Fetch data\n",
        "cursor.execute(\"SELECT * FROM BANK_Account_transaction\")\n",
        "rows = cursor.fetchall()\n",
        "\n",
        "# Get column names\n",
        "column_names = [desc[0] for desc in cursor.description]\n",
        "\n",
        "# Print in tabular format\n",
        "print(tabulate(rows, headers=column_names, tablefmt=\"grid\"))"
      ],
      "metadata": {
        "colab": {
          "base_uri": "https://localhost:8080/"
        },
        "id": "6QDnpmOfRYgG",
        "outputId": "3e0fc380-0038-4a23-fd20-647b4c5ba3c6"
      },
      "execution_count": null,
      "outputs": [
        {
          "output_type": "stream",
          "name": "stdout",
          "text": [
            "+---------------------+----------------------+-----------------------+------------+--------------------+\n",
            "| Account_Number      |   Transaction_amount | Transaction_channel   | Province   | Transaction_Date   |\n",
            "+=====================+======================+=======================+============+====================+\n",
            "| 4000-1956-3456      |                -2000 | ATM withdrawal        | CA         | 2020-01-13         |\n",
            "+---------------------+----------------------+-----------------------+------------+--------------------+\n",
            "| 4000-1956-2001      |                -4000 | POS-Walmart           | MN         | 2020-02-14         |\n",
            "+---------------------+----------------------+-----------------------+------------+--------------------+\n",
            "| 4000-1956-2001      |                -1600 | UPI transfer          | MN         | 2020-01-19         |\n",
            "+---------------------+----------------------+-----------------------+------------+--------------------+\n",
            "| 4000-1956-2001      |                -6000 | Bankers cheque        | CA         | 2020-03-23         |\n",
            "+---------------------+----------------------+-----------------------+------------+--------------------+\n",
            "| 4000-1956-2001      |                -3000 | Net banking           | CA         | 2020-04-24         |\n",
            "+---------------------+----------------------+-----------------------+------------+--------------------+\n",
            "| 4000-1956-2001      |                23000 | Cheque deposit        | MN         | 2020-03-15         |\n",
            "+---------------------+----------------------+-----------------------+------------+--------------------+\n",
            "| 5000-1700-6091      |                40000 | ECS transfer          | NY         | 2020-02-19         |\n",
            "+---------------------+----------------------+-----------------------+------------+--------------------+\n",
            "| 5000-1700-7791      |                40000 | ECS transfer          | NY         | 2020-02-19         |\n",
            "+---------------------+----------------------+-----------------------+------------+--------------------+\n",
            "| 4000-1956-3401      |                 8000 | Cash Deposit          | NY         | 2020-01-19         |\n",
            "+---------------------+----------------------+-----------------------+------------+--------------------+\n",
            "| 4000-1956-5102      |                -6500 | ATM withdrawal        | NY         | 2020-03-14         |\n",
            "+---------------------+----------------------+-----------------------+------------+--------------------+\n",
            "| 4000-1956-5698      |                -9000 | Cash Deposit          | NY         | 2020-03-27         |\n",
            "+---------------------+----------------------+-----------------------+------------+--------------------+\n",
            "| 4000-1956-9977      |                50000 | ECS transfer          | NY         | 2020-01-16         |\n",
            "+---------------------+----------------------+-----------------------+------------+--------------------+\n",
            "| 9000-1700-7777-4321 |                -5000 | POS-Walmart           | NY         | 2020-02-17         |\n",
            "+---------------------+----------------------+-----------------------+------------+--------------------+\n",
            "| 9000-1700-7777-4321 |                -8000 | Shopping Cart         | MN         | 2020-03-13         |\n",
            "+---------------------+----------------------+-----------------------+------------+--------------------+\n",
            "| 9000-1700-7777-4321 |                -2500 | Shopping Cart         | MN         | 2020-04-21         |\n",
            "+---------------------+----------------------+-----------------------+------------+--------------------+\n",
            "| 5800-1700-9800-7755 |                -9000 | POS-Walmart           | MN         | 2020-04-13         |\n",
            "+---------------------+----------------------+-----------------------+------------+--------------------+\n",
            "| 5890-1970-7706-8912 |               -11000 | Shopping Cart         | NY         | 2020-03-12         |\n",
            "+---------------------+----------------------+-----------------------+------------+--------------------+\n"
          ]
        }
      ]
    },
    {
      "cell_type": "markdown",
      "source": [
        "**BANK_CUSTOMER_MESSAGES** Table"
      ],
      "metadata": {
        "id": "lKevRn3XRmI0"
      }
    },
    {
      "cell_type": "code",
      "source": [
        "\n",
        "cursor.execute(\"\"\"\n",
        "CREATE TABLE BANK_CUSTOMER_MESSAGES (\n",
        "              \tEvent VARCHAR(24),\n",
        "              \tCustomer_message VARCHAR(75),\n",
        "              \tNotice_delivery_mode VARCHAR(15)) ;\n",
        "\"\"\")\n",
        "conn.commit()"
      ],
      "metadata": {
        "id": "kx4rJCqRRdNT"
      },
      "execution_count": null,
      "outputs": []
    },
    {
      "cell_type": "code",
      "source": [
        "def insert_BANK_CUSTOMER_MESSAGES(Event,Customer_message, Notice_delivery_mode):\n",
        "    cursor.execute(\"\"\"\n",
        "        INSERT INTO BANK_CUSTOMER_MESSAGES\n",
        "        (Event,Customer_message, Notice_delivery_mode)\n",
        "        VALUES (?, ?, ?)\n",
        "    \"\"\", (Event,Customer_message, Notice_delivery_mode))\n",
        "\n",
        "    conn.commit()\n",
        "insert_BANK_CUSTOMER_MESSAGES(\"Adhoc\", \"All Banks are closed due to announcement of National strike\", \"mobile\")\n",
        "insert_BANK_CUSTOMER_MESSAGES(\"Transaction Limit\", \"Only limited withdrawals per card are allowed from ATM machines\", \"mobile\")"
      ],
      "metadata": {
        "id": "FScyyrUSRpZv"
      },
      "execution_count": null,
      "outputs": []
    },
    {
      "cell_type": "code",
      "source": [
        "# Fetch data\n",
        "cursor.execute(\"SELECT * FROM BANK_CUSTOMER_MESSAGES\")\n",
        "rows = cursor.fetchall()\n",
        "\n",
        "# Get column names\n",
        "column_names = [desc[0] for desc in cursor.description]\n",
        "\n",
        "# Print in tabular format\n",
        "print(tabulate(rows, headers=column_names, tablefmt=\"grid\"))"
      ],
      "metadata": {
        "colab": {
          "base_uri": "https://localhost:8080/"
        },
        "id": "vsl1xxIiRyH7",
        "outputId": "91c242b5-d3d9-4cc0-b435-5d6af2d31a09"
      },
      "execution_count": null,
      "outputs": [
        {
          "output_type": "stream",
          "name": "stdout",
          "text": [
            "+-------------------+-----------------------------------------------------------------+------------------------+\n",
            "| Event             | Customer_message                                                | Notice_delivery_mode   |\n",
            "+===================+=================================================================+========================+\n",
            "| Adhoc             | All Banks are closed due to announcement of National strike     | mobile                 |\n",
            "+-------------------+-----------------------------------------------------------------+------------------------+\n",
            "| Transaction Limit | Only limited withdrawals per card are allowed from ATM machines | mobile                 |\n",
            "+-------------------+-----------------------------------------------------------------+------------------------+\n"
          ]
        }
      ]
    },
    {
      "cell_type": "markdown",
      "source": [
        "**CREATE TABLE BANK_INTEREST_RATE** Table"
      ],
      "metadata": {
        "id": "h9JT5mPNR_fC"
      }
    },
    {
      "cell_type": "code",
      "source": [
        "\n",
        "cursor.execute('''CREATE TABLE BANK_INTEREST_RATE(\n",
        "            \taccount_type varchar(24),\n",
        "              \tinterest_rate decimal(4,2),\n",
        "            \tmonth varchar(2),\n",
        "            \tyear  varchar(4)\n",
        "             \t);\n",
        "''')\n",
        "conn.commit()"
      ],
      "metadata": {
        "id": "Pb-0IN_mR33D"
      },
      "execution_count": null,
      "outputs": []
    },
    {
      "cell_type": "code",
      "source": [
        "def insert_BANK_INTEREST_RATE(account_type, interest_rate, month, year):\n",
        "    cursor.execute(\"\"\"\n",
        "        INSERT INTO BANK_INTEREST_RATE (account_type, interest_rate, month, year)\n",
        "        VALUES (?, ?, ?, ?)\n",
        "    \"\"\", (account_type, interest_rate, month, year))\n",
        "\n",
        "    conn.commit()\n",
        "insert_BANK_INTEREST_RATE(\"SAVINGS\", 0.04, '02', '2020')\n",
        "insert_BANK_INTEREST_RATE(\"RECURRING DEPOSITS\", 0.07, '02', '2020')\n",
        "insert_BANK_INTEREST_RATE(\"PRIVILEGED_INTEREST_RATE\", 0.08, '02', '2020')"
      ],
      "metadata": {
        "id": "Y_q9n9hASCVd"
      },
      "execution_count": null,
      "outputs": []
    },
    {
      "cell_type": "code",
      "source": [
        "# Fetch data\n",
        "cursor.execute(\"SELECT * FROM BANK_INTEREST_RATE\")\n",
        "rows = cursor.fetchall()\n",
        "\n",
        "# Get column names\n",
        "column_names = [desc[0] for desc in cursor.description]\n",
        "\n",
        "# Print in tabular format\n",
        "print(tabulate(rows, headers=column_names, tablefmt=\"grid\"))"
      ],
      "metadata": {
        "colab": {
          "base_uri": "https://localhost:8080/"
        },
        "id": "Qk1HHsWRSHOI",
        "outputId": "a3c17d87-773a-4660-809c-86539005267f"
      },
      "execution_count": null,
      "outputs": [
        {
          "output_type": "stream",
          "name": "stdout",
          "text": [
            "+--------------------------+-----------------+---------+--------+\n",
            "| account_type             |   interest_rate |   month |   year |\n",
            "+==========================+=================+=========+========+\n",
            "| SAVINGS                  |            0.04 |      02 |   2020 |\n",
            "+--------------------------+-----------------+---------+--------+\n",
            "| RECURRING DEPOSITS       |            0.07 |      02 |   2020 |\n",
            "+--------------------------+-----------------+---------+--------+\n",
            "| PRIVILEGED_INTEREST_RATE |            0.08 |      02 |   2020 |\n",
            "+--------------------------+-----------------+---------+--------+\n"
          ]
        }
      ]
    },
    {
      "cell_type": "markdown",
      "source": [
        "# Question 1:\n",
        "# 1) Print customer Id, customer name and average account_balance maintained by each customer for all  of his/her accounts in the bank.(8 Rows)\n"
      ],
      "metadata": {
        "id": "7QcbV41US_Dw"
      }
    },
    {
      "cell_type": "code",
      "source": [
        "# SQL query to get customer_id, customer_name, and average balance amount\n",
        "query = \"\"\"\n",
        "SELECT\n",
        "    c.customer_id,\n",
        "    c.customer_name,\n",
        "    AVG(a.balance_amount) AS avg_balance\n",
        "FROM BANK_CUSTOMER c\n",
        "LEFT JOIN BANK_Account_Details a ON c.customer_id = a.customer_id\n",
        "GROUP BY c.customer_id, c.customer_name\n",
        "LIMIT 8;  -- Show only 8 rows\n",
        "\"\"\"\n",
        "\n",
        "# Execute the query\n",
        "cursor.execute(query)\n",
        "\n",
        "# Fetch column names\n",
        "columns = [desc[0] for desc in cursor.description]\n",
        "\n",
        "# Fetch all results\n",
        "results = cursor.fetchall()\n",
        "\n",
        "# Print table headers\n",
        "print(\"{:<12} {:<20} {:<15}\".format(*columns))\n",
        "print(\"-\" * 50)\n",
        "\n",
        "# Print each row in a properly formatted way\n",
        "for row in results:\n",
        "    print(\"{:<12} {:<20} {:<15.2f}\".format(*row))  # Format avg_balance to 2 decimal places"
      ],
      "metadata": {
        "colab": {
          "base_uri": "https://localhost:8080/"
        },
        "id": "-N07gDYjTecn",
        "outputId": "fbaaa371-61c7-435c-c380-6053c4675c98"
      },
      "execution_count": null,
      "outputs": [
        {
          "output_type": "stream",
          "name": "stdout",
          "text": [
            "customer_id  customer_name        avg_balance    \n",
            "--------------------------------------------------\n",
            "123001       Oliver               4800000.00     \n",
            "123002       George               3950000.00     \n",
            "123003       Harry                750000.00      \n",
            "123004       Jack                 4077500.00     \n",
            "123005       Jacob                300000.00      \n",
            "123006       Noah                 151666.67      \n",
            "123007       Charlie              1845000.00     \n",
            "123008       Robin                0.00           \n"
          ]
        }
      ]
    },
    {
      "cell_type": "markdown",
      "source": [
        "# Question 2:\n",
        "# 2) Print customer_id , account_number and balance_amount , condition that if balance_amount is nil then assign transaction_amount  for account_type = \"Credit Card\"(4 Rows)\n"
      ],
      "metadata": {
        "id": "i3iLc6FHT-U_"
      }
    },
    {
      "cell_type": "code",
      "source": [
        "#2) Print customer_id , account_number and balance_amount , condition that if balance_amount is nil then assign transaction_amount  for account_type = \"Credit Card\"(4 Rows).\n",
        "query = \"\"\"\n",
        "SELECT\n",
        "    a.customer_id,\n",
        "    a.account_number,\n",
        "    COALESCE(a.balance_amount, t.transaction_amount) AS balance_amount\n",
        "FROM BANK_Account_Details a\n",
        "LEFT JOIN BANK_Account_transaction t ON a.account_number = t.account_number\n",
        "WHERE a.account_type = 'Credit Card'\n",
        "LIMIT 4;  -- Show only 4 rows\n",
        "\"\"\"\n",
        "result = pd.read_sql_query(query, conn)\n",
        "print(tabulate(result, headers='keys', tablefmt='psql'))\n"
      ],
      "metadata": {
        "colab": {
          "base_uri": "https://localhost:8080/"
        },
        "id": "_DLddXRyT_Ai",
        "outputId": "97d7f1d5-3a6e-4f78-8c26-589bd40e5345"
      },
      "execution_count": null,
      "outputs": [
        {
          "output_type": "stream",
          "name": "stdout",
          "text": [
            "+----+---------------+---------------------+------------------+\n",
            "|    |   customer_id | Account_Number      |   balance_amount |\n",
            "|----+---------------+---------------------+------------------|\n",
            "|  0 |        123007 | 9000-1700-7777-4321 |                0 |\n",
            "|  1 |        123007 | 9000-1700-7777-4321 |                0 |\n",
            "|  2 |        123007 | 9000-1700-7777-4321 |                0 |\n",
            "|  3 |        123006 | 5800-1700-9800-7755 |                0 |\n",
            "+----+---------------+---------------------+------------------+\n"
          ]
        }
      ]
    },
    {
      "cell_type": "markdown",
      "source": [
        "# Question 3:\n",
        "# 3) Print account_number and balance_amount , transaction_amount,Transaction_Date from Bank_Account_Details and bank_account_transaction for all the transactions occurred during march,2020 and april, 2020(12 Rows)\n"
      ],
      "metadata": {
        "id": "bpMc33eDVIwA"
      }
    },
    {
      "cell_type": "code",
      "source": [
        "#3) Print account_number and balance_amount , transaction_amount,Transaction_Date from Bank_Account_Details and bank_account_transaction for all the transactions occurred during march,2020 and april, 2020(12 Rows).\n",
        "query = \"\"\"\n",
        "SELECT\n",
        "    a.account_number,\n",
        "    a.balance_amount,\n",
        "    t.transaction_amount,\n",
        "    t.transaction_date\n",
        "FROM BANK_Account_Details a\n",
        "JOIN BANK_Account_transaction t ON a.account_number = t.account_number\n",
        "WHERE t.transaction_date BETWEEN '2020-03-01' AND '2020-04-30';\n",
        "\"\"\"\n",
        "\n",
        "result = pd.read_sql_query(query, conn)\n",
        "print(tabulate(result, headers='keys', tablefmt='psql'))\n",
        "\n"
      ],
      "metadata": {
        "id": "DbHloeVOU1Gm",
        "colab": {
          "base_uri": "https://localhost:8080/"
        },
        "outputId": "6c2bd729-fc93-4b34-8483-5908104479d4"
      },
      "execution_count": null,
      "outputs": [
        {
          "output_type": "stream",
          "name": "stdout",
          "text": [
            "+----+---------------------+------------------+----------------------+--------------------+\n",
            "|    | Account_Number      |   Balance_amount |   Transaction_amount | Transaction_Date   |\n",
            "|----+---------------------+------------------+----------------------+--------------------|\n",
            "|  0 | 4000-1956-2001      |           400000 |                -6000 | 2020-03-23         |\n",
            "|  1 | 4000-1956-2001      |           400000 |                -3000 | 2020-04-24         |\n",
            "|  2 | 4000-1956-2001      |           400000 |                23000 | 2020-03-15         |\n",
            "|  3 | 4000-1956-5102      |           300000 |                -6500 | 2020-03-14         |\n",
            "|  4 | 4000-1956-5698      |           455000 |                -9000 | 2020-03-27         |\n",
            "|  5 | 9000-1700-7777-4321 |                0 |                -8000 | 2020-03-13         |\n",
            "|  6 | 9000-1700-7777-4321 |                0 |                -2500 | 2020-04-21         |\n",
            "|  7 | 5800-1700-9800-7755 |                0 |                -9000 | 2020-04-13         |\n",
            "|  8 | 5890-1970-7706-8912 |                0 |               -11000 | 2020-03-12         |\n",
            "+----+---------------------+------------------+----------------------+--------------------+\n"
          ]
        }
      ]
    },
    {
      "cell_type": "markdown",
      "source": [
        "# Question 4:\n",
        "# 4) Print all of the customer id, account number,  balance_amount, transaction_amount , Transaction_Date  from bank_customer, Bank_Account_Details and bank_account_transaction tables where excluding all of their transactions in march, 2020  month (22 Rows)\n"
      ],
      "metadata": {
        "id": "V4IN1v0SV8bN"
      }
    },
    {
      "cell_type": "code",
      "source": [
        "query = \"\"\"\n",
        "SELECT\n",
        "    c.customer_id,\n",
        "    a.account_number,\n",
        "    a.balance_amount,\n",
        "    t.transaction_amount,\n",
        "    t.transaction_date\n",
        "FROM BANK_CUSTOMER c\n",
        "JOIN BANK_Account_Details a ON c.customer_id = a.customer_id\n",
        "JOIN BANK_Account_transaction t ON a.account_number = t.account_number\n",
        "WHERE t.transaction_date NOT BETWEEN '2020-03-01' AND '2020-03-31';\n",
        "\"\"\"\n",
        "result = pd.read_sql_query(query, conn)\n",
        "print(tabulate(result, headers='keys', tablefmt='psql'))"
      ],
      "metadata": {
        "colab": {
          "base_uri": "https://localhost:8080/"
        },
        "id": "mXr97KhTW4ic",
        "outputId": "ffc2ffee-5f7c-4d2c-9ad6-918dcf67c8bc"
      },
      "execution_count": null,
      "outputs": [
        {
          "output_type": "stream",
          "name": "stdout",
          "text": [
            "+----+---------------+---------------------+------------------+----------------------+--------------------+\n",
            "|    |   customer_id | Account_Number      |   Balance_amount |   Transaction_amount | Transaction_Date   |\n",
            "|----+---------------+---------------------+------------------+----------------------+--------------------|\n",
            "|  0 |        123001 | 4000-1956-3456      |           200000 |                -2000 | 2020-01-13         |\n",
            "|  1 |        123002 | 4000-1956-2001      |           400000 |                -4000 | 2020-02-14         |\n",
            "|  2 |        123002 | 4000-1956-2001      |           400000 |                -1600 | 2020-01-19         |\n",
            "|  3 |        123002 | 4000-1956-2001      |           400000 |                -3000 | 2020-04-24         |\n",
            "|  4 |        123004 | 5000-1700-6091      |          7500000 |                40000 | 2020-02-19         |\n",
            "|  5 |        123004 | 4000-1956-3401      |           655000 |                 8000 | 2020-01-19         |\n",
            "|  6 |        123007 | 4000-1956-9977      |          7025000 |                50000 | 2020-01-16         |\n",
            "|  7 |        123007 | 9000-1700-7777-4321 |                0 |                -5000 | 2020-02-17         |\n",
            "|  8 |        123007 | 9000-1700-7777-4321 |                0 |                -2500 | 2020-04-21         |\n",
            "|  9 |        123006 | 5800-1700-9800-7755 |                0 |                -9000 | 2020-04-13         |\n",
            "+----+---------------+---------------------+------------------+----------------------+--------------------+\n"
          ]
        }
      ]
    },
    {
      "cell_type": "markdown",
      "source": [
        "# Question 5:\n",
        "# 5) Print only the customer id, account_number, balance_amount,transaction_amount ,transaction_date who did transactions during the first quarter. Do not display the accounts if they have not done any transactions in the first quarter.(16 Rows)\n"
      ],
      "metadata": {
        "id": "g_1RHYDHXAam"
      }
    },
    {
      "cell_type": "code",
      "source": [
        "query = \"\"\"\n",
        "SELECT\n",
        "    c.customer_id,\n",
        "    a.account_number,\n",
        "    a.balance_amount,\n",
        "    t.transaction_amount,\n",
        "    t.Transaction_date\n",
        "FROM BANK_CUSTOMER c\n",
        "JOIN BANK_Account_Details a ON c.customer_id = a.customer_id\n",
        "JOIN BANK_Account_Transaction t ON a.account_number = t.account_number\n",
        "WHERE t.Transaction_date BETWEEN '2020-01-01' AND '2020-03-31';\n",
        "\"\"\"\n",
        "result = pd.read_sql_query(query, conn)\n",
        "print(tabulate(result, headers='keys', tablefmt='psql'))"
      ],
      "metadata": {
        "colab": {
          "base_uri": "https://localhost:8080/"
        },
        "id": "ja3z26UNYD2-",
        "outputId": "d4661ff3-4dcb-4743-9d88-546821178e0d"
      },
      "execution_count": null,
      "outputs": [
        {
          "output_type": "stream",
          "name": "stdout",
          "text": [
            "+----+---------------+---------------------+------------------+----------------------+--------------------+\n",
            "|    |   customer_id | Account_Number      |   Balance_amount |   Transaction_amount | Transaction_Date   |\n",
            "|----+---------------+---------------------+------------------+----------------------+--------------------|\n",
            "|  0 |        123001 | 4000-1956-3456      |           200000 |                -2000 | 2020-01-13         |\n",
            "|  1 |        123002 | 4000-1956-2001      |           400000 |                -4000 | 2020-02-14         |\n",
            "|  2 |        123002 | 4000-1956-2001      |           400000 |                -1600 | 2020-01-19         |\n",
            "|  3 |        123002 | 4000-1956-2001      |           400000 |                -6000 | 2020-03-23         |\n",
            "|  4 |        123002 | 4000-1956-2001      |           400000 |                23000 | 2020-03-15         |\n",
            "|  5 |        123004 | 5000-1700-6091      |          7500000 |                40000 | 2020-02-19         |\n",
            "|  6 |        123004 | 4000-1956-3401      |           655000 |                 8000 | 2020-01-19         |\n",
            "|  7 |        123005 | 4000-1956-5102      |           300000 |                -6500 | 2020-03-14         |\n",
            "|  8 |        123006 | 4000-1956-5698      |           455000 |                -9000 | 2020-03-27         |\n",
            "|  9 |        123007 | 4000-1956-9977      |          7025000 |                50000 | 2020-01-16         |\n",
            "| 10 |        123007 | 9000-1700-7777-4321 |                0 |                -5000 | 2020-02-17         |\n",
            "| 11 |        123007 | 9000-1700-7777-4321 |                0 |                -8000 | 2020-03-13         |\n",
            "| 12 |        123006 | 5890-1970-7706-8912 |                0 |               -11000 | 2020-03-12         |\n",
            "+----+---------------+---------------------+------------------+----------------------+--------------------+\n"
          ]
        }
      ]
    },
    {
      "cell_type": "markdown",
      "source": [
        "# Question 6:\n",
        "# 6) Print account_number, Event and Customer_message from BANK_CUSTOMER_MESSAGES and Bank_Account_Details to display an “Adhoc\" Event for all customers who have  “SAVINGS\" account_type account.(8 Rows)\n"
      ],
      "metadata": {
        "id": "SiSpR4_PX7sa"
      }
    },
    {
      "cell_type": "code",
      "source": [
        "#6) Print account_number, Event and Customer_message from BANK_CUSTOMER_MESSAGES and Bank_Account_Details to display an “Adhoc\" Event for all customers who have “SAVINGS\" account_type account(8 Rows).\n",
        "query = \"\"\"\n",
        "SELECT\n",
        "    a.account_number,\n",
        "    m.Event,\n",
        "    m.Customer_message\n",
        "FROM BANK_Account_Details a\n",
        "JOIN BANK_CUSTOMER_MESSAGES m ON a.account_type = 'SAVINGS';\n",
        "\"\"\"\n",
        "result = pd.read_sql_query(query, conn)\n",
        "print(tabulate(result, headers='keys', tablefmt='psql'))\n"
      ],
      "metadata": {
        "id": "-AXwt_3TXN9b",
        "colab": {
          "base_uri": "https://localhost:8080/"
        },
        "outputId": "4eb74169-a358-4cbe-84cc-9da6b32ec4a5"
      },
      "execution_count": null,
      "outputs": [
        {
          "output_type": "stream",
          "name": "stdout",
          "text": [
            "+----+------------------+-------------------+-----------------------------------------------------------------+\n",
            "|    | Account_Number   | Event             | Customer_message                                                |\n",
            "|----+------------------+-------------------+-----------------------------------------------------------------|\n",
            "|  0 | 4000-1956-2001   | Adhoc             | All Banks are closed due to announcement of National strike     |\n",
            "|  1 | 4000-1956-2900   | Adhoc             | All Banks are closed due to announcement of National strike     |\n",
            "|  2 | 4000-1956-3401   | Adhoc             | All Banks are closed due to announcement of National strike     |\n",
            "|  3 | 4000-1956-3456   | Adhoc             | All Banks are closed due to announcement of National strike     |\n",
            "|  4 | 4000-1956-5102   | Adhoc             | All Banks are closed due to announcement of National strike     |\n",
            "|  5 | 4000-1956-5698   | Adhoc             | All Banks are closed due to announcement of National strike     |\n",
            "|  6 | 5000-1700-7755   | Adhoc             | All Banks are closed due to announcement of National strike     |\n",
            "|  7 | 5000-1700-9800   | Adhoc             | All Banks are closed due to announcement of National strike     |\n",
            "|  8 | 4000-1956-2001   | Transaction Limit | Only limited withdrawals per card are allowed from ATM machines |\n",
            "|  9 | 4000-1956-2900   | Transaction Limit | Only limited withdrawals per card are allowed from ATM machines |\n",
            "| 10 | 4000-1956-3401   | Transaction Limit | Only limited withdrawals per card are allowed from ATM machines |\n",
            "| 11 | 4000-1956-3456   | Transaction Limit | Only limited withdrawals per card are allowed from ATM machines |\n",
            "| 12 | 4000-1956-5102   | Transaction Limit | Only limited withdrawals per card are allowed from ATM machines |\n",
            "| 13 | 4000-1956-5698   | Transaction Limit | Only limited withdrawals per card are allowed from ATM machines |\n",
            "| 14 | 5000-1700-7755   | Transaction Limit | Only limited withdrawals per card are allowed from ATM machines |\n",
            "| 15 | 5000-1700-9800   | Transaction Limit | Only limited withdrawals per card are allowed from ATM machines |\n",
            "+----+------------------+-------------------+-----------------------------------------------------------------+\n"
          ]
        }
      ]
    },
    {
      "cell_type": "markdown",
      "source": [
        "# Question 7:\n",
        "# 7) Print all Customer_id, Account_Number, Account_type, and display deducted balance_amount by  subtracting only negative transaction_amounts for Relationship_type =\"P\" ( P - means  Primary , S - means Secondary ) .(27 Rows)\n"
      ],
      "metadata": {
        "id": "OMINSzu2exs_"
      }
    },
    {
      "cell_type": "code",
      "source": [
        "#7) Print all Customer_id, Account_Number, Account_type, and display deducted balance_amount by  subtracting only negative transaction_amounts for Relationship_type =\"P\" ( P - means  Primary , S - means Secondary ) (27 Rows).\n",
        "query = \"\"\"\n",
        "SELECT\n",
        "    a.customer_id,\n",
        "    a.account_number,\n",
        "    a.account_type,\n",
        "    SUM(CASE WHEN t.transaction_amount < 0 THEN t.transaction_amount ELSE 0 END) AS deducted_balance\n",
        "FROM BANK_Account_Details a\n",
        "JOIN BANK_Account_Transaction t ON a.account_number = t.account_number\n",
        "WHERE a.relationship_type = 'P'\n",
        "GROUP BY a.customer_id, a.account_number, a.account_type;\n",
        "\"\"\"\n",
        "result = pd.read_sql_query(query, conn)\n",
        "print(tabulate(result, headers='keys', tablefmt='psql'))\n"
      ],
      "metadata": {
        "id": "uEKty3tPYi8d",
        "colab": {
          "base_uri": "https://localhost:8080/"
        },
        "outputId": "cf9fa619-bd14-4d05-d8d7-44ae57ee4094"
      },
      "execution_count": null,
      "outputs": [
        {
          "output_type": "stream",
          "name": "stdout",
          "text": [
            "+----+---------------+---------------------+----------------+--------------------+\n",
            "|    |   customer_id | Account_Number      | Account_type   |   deducted_balance |\n",
            "|----+---------------+---------------------+----------------+--------------------|\n",
            "|  0 |        123001 | 4000-1956-3456      | SAVINGS        |              -2000 |\n",
            "|  1 |        123002 | 4000-1956-2001      | SAVINGS        |             -14600 |\n",
            "|  2 |        123004 | 4000-1956-3401      | SAVINGS        |                  0 |\n",
            "|  3 |        123005 | 4000-1956-5102      | SAVINGS        |              -6500 |\n",
            "|  4 |        123006 | 4000-1956-5698      | SAVINGS        |              -9000 |\n",
            "|  5 |        123006 | 5800-1700-9800-7755 | Credit Card    |              -9000 |\n",
            "|  6 |        123007 | 9000-1700-7777-4321 | Credit Card    |             -15500 |\n",
            "+----+---------------+---------------------+----------------+--------------------+\n"
          ]
        }
      ]
    },
    {
      "cell_type": "markdown",
      "source": [
        "# Question 8:\n",
        "# a) Display records of All Accounts , their Account_types, the transaction amount.\n",
        "# b) Along with first step, Display other columns with corresponding linking account number, account types (15 Rows)\n"
      ],
      "metadata": {
        "id": "OIaqX-jBf5et"
      }
    },
    {
      "cell_type": "code",
      "source": [
        "#a) Display records of All Accounts , their Account_types, the transaction amount.\n",
        "query=\"\"\"\n",
        "SELECT\n",
        "    a.account_number,\n",
        "    a.account_type,\n",
        "    t.transaction_amount\n",
        "FROM BANK_Account_Details a\n",
        "JOIN BANK_Account_Transaction t ON a.account_number = t.account_number;\n",
        "\"\"\"\n",
        "result = pd.read_sql_query(query, conn)\n",
        "print(tabulate(result, headers='keys', tablefmt='psql'))\n"
      ],
      "metadata": {
        "colab": {
          "base_uri": "https://localhost:8080/"
        },
        "id": "WfgzVJVHe8kj",
        "outputId": "37bbb852-6883-47fc-d7d2-c5699287ca33"
      },
      "execution_count": null,
      "outputs": [
        {
          "output_type": "stream",
          "name": "stdout",
          "text": [
            "+----+---------------------+--------------------+----------------------+\n",
            "|    | Account_Number      | Account_type       |   Transaction_amount |\n",
            "|----+---------------------+--------------------+----------------------|\n",
            "|  0 | 4000-1956-3456      | SAVINGS            |                -2000 |\n",
            "|  1 | 4000-1956-2001      | SAVINGS            |                -6000 |\n",
            "|  2 | 4000-1956-2001      | SAVINGS            |                -4000 |\n",
            "|  3 | 4000-1956-2001      | SAVINGS            |                -3000 |\n",
            "|  4 | 4000-1956-2001      | SAVINGS            |                -1600 |\n",
            "|  5 | 4000-1956-2001      | SAVINGS            |                23000 |\n",
            "|  6 | 5000-1700-6091      | RECURRING DEPOSITS |                40000 |\n",
            "|  7 | 4000-1956-3401      | SAVINGS            |                 8000 |\n",
            "|  8 | 4000-1956-5102      | SAVINGS            |                -6500 |\n",
            "|  9 | 4000-1956-5698      | SAVINGS            |                -9000 |\n",
            "| 10 | 4000-1956-9977      | RECURRING DEPOSITS |                50000 |\n",
            "| 11 | 9000-1700-7777-4321 | Credit Card        |                -8000 |\n",
            "| 12 | 9000-1700-7777-4321 | Credit Card        |                -5000 |\n",
            "| 13 | 9000-1700-7777-4321 | Credit Card        |                -2500 |\n",
            "| 14 | 5800-1700-9800-7755 | Credit Card        |                -9000 |\n",
            "| 15 | 5890-1970-7706-8912 | Add-on Credit Card |               -11000 |\n",
            "+----+---------------------+--------------------+----------------------+\n"
          ]
        }
      ]
    },
    {
      "cell_type": "code",
      "source": [
        "# b)Along with first step, Display other columns with corresponding linking account number, account types (15 Rows).\n",
        "query = \"\"\"\n",
        "SELECT\n",
        "    a.account_number,\n",
        "    a.account_type,\n",
        "    t.transaction_amount,\n",
        "    r.linking_account_number,\n",
        "    r.account_type AS linking_account_type\n",
        "FROM BANK_Account_Details a\n",
        "JOIN BANK_Account_Transaction t ON a.account_number = t.account_number\n",
        "LEFT JOIN BANK_Account_Relationship_Details r ON a.account_number = r.linking_account_number;\n",
        "\"\"\"\n",
        "result = pd.read_sql_query(query, conn)\n",
        "print(tabulate(result, headers='keys', tablefmt='psql'))"
      ],
      "metadata": {
        "colab": {
          "base_uri": "https://localhost:8080/"
        },
        "id": "Fu3CUJ8BgGKZ",
        "outputId": "36f095c0-891a-4eea-8115-f969668b73f4"
      },
      "execution_count": null,
      "outputs": [
        {
          "output_type": "stream",
          "name": "stdout",
          "text": [
            "+----+---------------------+--------------------+----------------------+--------------------------+------------------------+\n",
            "|    | Account_Number      | Account_type       |   Transaction_amount | linking_Account_Number   | linking_account_type   |\n",
            "|----+---------------------+--------------------+----------------------+--------------------------+------------------------|\n",
            "|  0 | 4000-1956-3456      | SAVINGS            |                -2000 | 4000-1956-3456           | RECURRING DEPOSITS     |\n",
            "|  1 | 4000-1956-2001      | SAVINGS            |                -6000 | 4000-1956-2001           | RECURRING DEPOSITS     |\n",
            "|  2 | 4000-1956-2001      | SAVINGS            |                -4000 | 4000-1956-2001           | RECURRING DEPOSITS     |\n",
            "|  3 | 4000-1956-2001      | SAVINGS            |                -3000 | 4000-1956-2001           | RECURRING DEPOSITS     |\n",
            "|  4 | 4000-1956-2001      | SAVINGS            |                -1600 | 4000-1956-2001           | RECURRING DEPOSITS     |\n",
            "|  5 | 4000-1956-2001      | SAVINGS            |                23000 | 4000-1956-2001           | RECURRING DEPOSITS     |\n",
            "|  6 | 5000-1700-6091      | RECURRING DEPOSITS |                40000 |                          |                        |\n",
            "|  7 | 4000-1956-3401      | SAVINGS            |                 8000 |                          |                        |\n",
            "|  8 | 4000-1956-5102      | SAVINGS            |                -6500 |                          |                        |\n",
            "|  9 | 4000-1956-5698      | SAVINGS            |                -9000 | 4000-1956-5698           | Credit Card            |\n",
            "| 10 | 4000-1956-9977      | RECURRING DEPOSITS |                50000 |                          |                        |\n",
            "| 11 | 9000-1700-7777-4321 | Credit Card        |                -8000 | 9000-1700-7777-4321      | Add-on Credit Card     |\n",
            "| 12 | 9000-1700-7777-4321 | Credit Card        |                -5000 | 9000-1700-7777-4321      | Add-on Credit Card     |\n",
            "| 13 | 9000-1700-7777-4321 | Credit Card        |                -2500 | 9000-1700-7777-4321      | Add-on Credit Card     |\n",
            "| 14 | 5800-1700-9800-7755 | Credit Card        |                -9000 | 5800-1700-9800-7755      | Add-on Credit Card     |\n",
            "| 15 | 5890-1970-7706-8912 | Add-on Credit Card |               -11000 |                          |                        |\n",
            "+----+---------------------+--------------------+----------------------+--------------------------+------------------------+\n"
          ]
        }
      ]
    },
    {
      "cell_type": "markdown",
      "source": [
        "#Question 9\n",
        "# a) Display records of All Accounts , their Account_types, the transaction amount.\n",
        "# b) Along with first step, Display other columns with corresponding linking account number, account types\n",
        "# c) After retrieving all records of accounts and their linked accounts, display the   transaction amount of accounts appeared  in another column.(26 Rows)\n"
      ],
      "metadata": {
        "id": "CPGE9_G5g92n"
      }
    },
    {
      "cell_type": "code",
      "source": [
        "#a) Display records of All Accounts ,their Account_types, the transaction amount.\n",
        "query=\"\"\"\n",
        "SELECT\n",
        "    a.account_number,\n",
        "    a.account_type,\n",
        "    t.transaction_amount\n",
        "FROM BANK_Account_Details a\n",
        "JOIN BANK_Account_Transaction t ON a.account_number = t.account_number;\n",
        "\"\"\"\n",
        "result = pd.read_sql_query(query, conn)\n",
        "print(tabulate(result, headers='keys', tablefmt='psql'))\n"
      ],
      "metadata": {
        "colab": {
          "base_uri": "https://localhost:8080/"
        },
        "id": "BLl4g5QRgxdl",
        "outputId": "ba895a48-a187-47ba-f160-60aaa376947f"
      },
      "execution_count": null,
      "outputs": [
        {
          "output_type": "stream",
          "name": "stdout",
          "text": [
            "+----+---------------------+--------------------+----------------------+\n",
            "|    | Account_Number      | Account_type       |   Transaction_amount |\n",
            "|----+---------------------+--------------------+----------------------|\n",
            "|  0 | 4000-1956-3456      | SAVINGS            |                -2000 |\n",
            "|  1 | 4000-1956-2001      | SAVINGS            |                -6000 |\n",
            "|  2 | 4000-1956-2001      | SAVINGS            |                -4000 |\n",
            "|  3 | 4000-1956-2001      | SAVINGS            |                -3000 |\n",
            "|  4 | 4000-1956-2001      | SAVINGS            |                -1600 |\n",
            "|  5 | 4000-1956-2001      | SAVINGS            |                23000 |\n",
            "|  6 | 5000-1700-6091      | RECURRING DEPOSITS |                40000 |\n",
            "|  7 | 4000-1956-3401      | SAVINGS            |                 8000 |\n",
            "|  8 | 4000-1956-5102      | SAVINGS            |                -6500 |\n",
            "|  9 | 4000-1956-5698      | SAVINGS            |                -9000 |\n",
            "| 10 | 4000-1956-9977      | RECURRING DEPOSITS |                50000 |\n",
            "| 11 | 9000-1700-7777-4321 | Credit Card        |                -8000 |\n",
            "| 12 | 9000-1700-7777-4321 | Credit Card        |                -5000 |\n",
            "| 13 | 9000-1700-7777-4321 | Credit Card        |                -2500 |\n",
            "| 14 | 5800-1700-9800-7755 | Credit Card        |                -9000 |\n",
            "| 15 | 5890-1970-7706-8912 | Add-on Credit Card |               -11000 |\n",
            "+----+---------------------+--------------------+----------------------+\n"
          ]
        }
      ]
    },
    {
      "cell_type": "code",
      "source": [
        "# b)Along with first step, Display other columns with corresponding linking account number, account types .\n",
        "\n",
        "query = \"\"\"\n",
        "SELECT\n",
        "    a.account_number,\n",
        "    a.account_type,\n",
        "    t.transaction_amount,\n",
        "    r.linking_account_number,\n",
        "    r.account_type AS linking_account_type\n",
        "FROM BANK_Account_Details a\n",
        "JOIN BANK_Account_Transaction t ON a.account_number = t.account_number\n",
        "LEFT JOIN BANK_Account_Relationship_Details r ON a.account_number = r.linking_account_number;\n",
        "\"\"\"\n",
        "result = pd.read_sql_query(query, conn)\n",
        "print(tabulate(result, headers='keys', tablefmt='psql'))"
      ],
      "metadata": {
        "colab": {
          "base_uri": "https://localhost:8080/"
        },
        "id": "uYIgz5wJhfQc",
        "outputId": "d701c21f-53bf-4c21-be83-b155b9ce8a1d"
      },
      "execution_count": null,
      "outputs": [
        {
          "output_type": "stream",
          "name": "stdout",
          "text": [
            "+----+---------------------+--------------------+----------------------+--------------------------+------------------------+\n",
            "|    | Account_Number      | Account_type       |   Transaction_amount | linking_Account_Number   | linking_account_type   |\n",
            "|----+---------------------+--------------------+----------------------+--------------------------+------------------------|\n",
            "|  0 | 4000-1956-3456      | SAVINGS            |                -2000 | 4000-1956-3456           | RECURRING DEPOSITS     |\n",
            "|  1 | 4000-1956-2001      | SAVINGS            |                -6000 | 4000-1956-2001           | RECURRING DEPOSITS     |\n",
            "|  2 | 4000-1956-2001      | SAVINGS            |                -4000 | 4000-1956-2001           | RECURRING DEPOSITS     |\n",
            "|  3 | 4000-1956-2001      | SAVINGS            |                -3000 | 4000-1956-2001           | RECURRING DEPOSITS     |\n",
            "|  4 | 4000-1956-2001      | SAVINGS            |                -1600 | 4000-1956-2001           | RECURRING DEPOSITS     |\n",
            "|  5 | 4000-1956-2001      | SAVINGS            |                23000 | 4000-1956-2001           | RECURRING DEPOSITS     |\n",
            "|  6 | 5000-1700-6091      | RECURRING DEPOSITS |                40000 |                          |                        |\n",
            "|  7 | 4000-1956-3401      | SAVINGS            |                 8000 |                          |                        |\n",
            "|  8 | 4000-1956-5102      | SAVINGS            |                -6500 |                          |                        |\n",
            "|  9 | 4000-1956-5698      | SAVINGS            |                -9000 | 4000-1956-5698           | Credit Card            |\n",
            "| 10 | 4000-1956-9977      | RECURRING DEPOSITS |                50000 |                          |                        |\n",
            "| 11 | 9000-1700-7777-4321 | Credit Card        |                -8000 | 9000-1700-7777-4321      | Add-on Credit Card     |\n",
            "| 12 | 9000-1700-7777-4321 | Credit Card        |                -5000 | 9000-1700-7777-4321      | Add-on Credit Card     |\n",
            "| 13 | 9000-1700-7777-4321 | Credit Card        |                -2500 | 9000-1700-7777-4321      | Add-on Credit Card     |\n",
            "| 14 | 5800-1700-9800-7755 | Credit Card        |                -9000 | 5800-1700-9800-7755      | Add-on Credit Card     |\n",
            "| 15 | 5890-1970-7706-8912 | Add-on Credit Card |               -11000 |                          |                        |\n",
            "+----+---------------------+--------------------+----------------------+--------------------------+------------------------+\n"
          ]
        }
      ]
    },
    {
      "cell_type": "code",
      "source": [
        "#c) After retrieving all records of accounts and their linked accounts, display the transaction amount of accounts appeared in another column.\n",
        "query = \"\"\"\n",
        "SELECT\n",
        "    a.account_number,\n",
        "    a.account_type,\n",
        "    t.transaction_amount,\n",
        "    r.linking_account_number,\n",
        "    r.account_type AS linking_account_type,\n",
        "    SUM(CASE WHEN t.account_number = a.account_number THEN t.transaction_amount ELSE 0 END) AS account_transaction_amount\n",
        "FROM BANK_Account_Details a\n",
        "JOIN BANK_Account_Transaction t ON a.account_number = t.account_number\n",
        "LEFT JOIN BANK_Account_Relationship_Details r ON a.account_number = r.linking_account_number\n",
        "GROUP BY a.account_number, a.account_type, t.transaction_amount, r.linking_account_number\n",
        "\"\"\"\n",
        "result = pd.read_sql_query(query, conn)\n",
        "print(tabulate(result, headers='keys', tablefmt='psql'))"
      ],
      "metadata": {
        "colab": {
          "base_uri": "https://localhost:8080/"
        },
        "id": "WaXo3gkqhohW",
        "outputId": "e3bc3be4-e0e8-4af9-9420-98c7c15b6dc1"
      },
      "execution_count": null,
      "outputs": [
        {
          "output_type": "stream",
          "name": "stdout",
          "text": [
            "+----+---------------------+--------------------+----------------------+--------------------------+------------------------+------------------------------+\n",
            "|    | Account_Number      | Account_type       |   Transaction_amount | linking_Account_Number   | linking_account_type   |   account_transaction_amount |\n",
            "|----+---------------------+--------------------+----------------------+--------------------------+------------------------+------------------------------|\n",
            "|  0 | 4000-1956-2001      | SAVINGS            |                -6000 | 4000-1956-2001           | RECURRING DEPOSITS     |                        -6000 |\n",
            "|  1 | 4000-1956-2001      | SAVINGS            |                -4000 | 4000-1956-2001           | RECURRING DEPOSITS     |                        -4000 |\n",
            "|  2 | 4000-1956-2001      | SAVINGS            |                -3000 | 4000-1956-2001           | RECURRING DEPOSITS     |                        -3000 |\n",
            "|  3 | 4000-1956-2001      | SAVINGS            |                -1600 | 4000-1956-2001           | RECURRING DEPOSITS     |                        -1600 |\n",
            "|  4 | 4000-1956-2001      | SAVINGS            |                23000 | 4000-1956-2001           | RECURRING DEPOSITS     |                        23000 |\n",
            "|  5 | 4000-1956-3401      | SAVINGS            |                 8000 |                          |                        |                         8000 |\n",
            "|  6 | 4000-1956-3456      | SAVINGS            |                -2000 | 4000-1956-3456           | RECURRING DEPOSITS     |                        -2000 |\n",
            "|  7 | 4000-1956-5102      | SAVINGS            |                -6500 |                          |                        |                        -6500 |\n",
            "|  8 | 4000-1956-5698      | SAVINGS            |                -9000 | 4000-1956-5698           | Credit Card            |                        -9000 |\n",
            "|  9 | 4000-1956-9977      | RECURRING DEPOSITS |                50000 |                          |                        |                        50000 |\n",
            "| 10 | 5000-1700-6091      | RECURRING DEPOSITS |                40000 |                          |                        |                        40000 |\n",
            "| 11 | 5800-1700-9800-7755 | Credit Card        |                -9000 | 5800-1700-9800-7755      | Add-on Credit Card     |                        -9000 |\n",
            "| 12 | 5890-1970-7706-8912 | Add-on Credit Card |               -11000 |                          |                        |                       -11000 |\n",
            "| 13 | 9000-1700-7777-4321 | Credit Card        |                -8000 | 9000-1700-7777-4321      | Add-on Credit Card     |                        -8000 |\n",
            "| 14 | 9000-1700-7777-4321 | Credit Card        |                -5000 | 9000-1700-7777-4321      | Add-on Credit Card     |                        -5000 |\n",
            "| 15 | 9000-1700-7777-4321 | Credit Card        |                -2500 | 9000-1700-7777-4321      | Add-on Credit Card     |                        -2500 |\n",
            "+----+---------------------+--------------------+----------------------+--------------------------+------------------------+------------------------------+\n"
          ]
        }
      ]
    },
    {
      "cell_type": "markdown",
      "source": [
        "# Question 10:\n",
        "# 10) Display all saving account holders have “Add-on Credit Cards\" and “Credit cards\" (3 Rows)\n",
        "\n"
      ],
      "metadata": {
        "id": "THsjc4i8ixI6"
      }
    },
    {
      "cell_type": "code",
      "source": [
        "# 10) Display all saving account holders have “Add-on Credit Cards\" and “Credit cards\" (3 Rows).\n",
        "query = \"\"\"\n",
        "SELECT\n",
        "    c.customer_id,\n",
        "    c.customer_name\n",
        "FROM BANK_CUSTOMER c\n",
        "JOIN BANK_Account_Details a ON c.customer_id = a.customer_id\n",
        "WHERE a.account_type IN ('SAVINGS', 'Credit Card')\n",
        "GROUP BY c.customer_id, c.customer_name\n",
        "HAVING COUNT(DISTINCT a.account_type) = 2;\n",
        "\"\"\"\n",
        "result = pd.read_sql_query(query, conn)\n",
        "print(tabulate(result, headers='keys', tablefmt='psql'))"
      ],
      "metadata": {
        "colab": {
          "base_uri": "https://localhost:8080/"
        },
        "id": "Qv3YLoRSh4jb",
        "outputId": "e6ec2b86-0286-4335-dbf9-a217af40e12f"
      },
      "execution_count": null,
      "outputs": [
        {
          "output_type": "stream",
          "name": "stdout",
          "text": [
            "+----+---------------+-----------------+\n",
            "|    |   customer_id | customer_name   |\n",
            "|----+---------------+-----------------|\n",
            "|  0 |        123006 | Noah            |\n",
            "|  1 |        123007 | Charlie         |\n",
            "+----+---------------+-----------------+\n"
          ]
        }
      ]
    },
    {
      "cell_type": "markdown",
      "source": [
        "# Question 11:\n",
        "# 11)  Display  records of “SAVINGS” account linked with “Credit cards\" account_type and its credit\n"
      ],
      "metadata": {
        "id": "7EMm6TobjQyQ"
      }
    },
    {
      "cell_type": "code",
      "source": [
        "\n",
        "# 11)  Display  records of “SAVINGS” account linked with “c\n",
        "redit cards\" account_type and its credit\n",
        "# aggregate sum of transaction amount. (1 Row)\n",
        "# Ref: Check linking relationship in bank_transaction_relationship_details.\n",
        "# Check transaction_amount in bank_account_transaction.\n",
        "query = \"\"\"\n",
        "SELECT\n",
        "    a.account_number,\n",
        "    SUM(t.transaction_amount) AS total_transaction_amount\n",
        "FROM BANK_Account_Details a\n",
        "JOIN BANK_Account_Transaction t ON a.account_number = t.account_number\n",
        "JOIN BANK_Account_Relationship_Details r ON a.account_number = r.linking_account_number\n",
        "WHERE a.account_type = 'SAVINGS' AND r.account_type = 'Credit Card'\n",
        "GROUP BY a.account_number;\n",
        "\"\"\"\n",
        "result = pd.read_sql_query(query, conn)\n",
        "print(tabulate(result, headers='keys', tablefmt='psql'))\n"
      ],
      "metadata": {
        "colab": {
          "base_uri": "https://localhost:8080/"
        },
        "id": "NXhfuXwVjA7g",
        "outputId": "8f9951d1-d1da-4d51-f048-1a87bf4811d7"
      },
      "execution_count": null,
      "outputs": [
        {
          "output_type": "stream",
          "name": "stdout",
          "text": [
            "+----+------------------+----------------------------+\n",
            "|    | Account_Number   |   total_transaction_amount |\n",
            "|----+------------------+----------------------------|\n",
            "|  0 | 4000-1956-5698   |                      -9000 |\n",
            "+----+------------------+----------------------------+\n"
          ]
        }
      ]
    },
    {
      "cell_type": "code",
      "source": [],
      "metadata": {
        "id": "tI4qIPHVjbBQ"
      },
      "execution_count": null,
      "outputs": []
    }
  ]
}